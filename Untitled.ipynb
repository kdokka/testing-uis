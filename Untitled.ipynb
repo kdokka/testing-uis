{
 "cells": [
  {
   "cell_type": "code",
   "execution_count": 1,
   "metadata": {},
   "outputs": [],
   "source": [
    "import tkinter as tk\n",
    "import matplotlib.pyplot as plt\n",
    "%matplotlib tk"
   ]
  },
  {
   "cell_type": "code",
   "execution_count": 2,
   "metadata": {},
   "outputs": [
    {
     "ename": "NameError",
     "evalue": "name 'plot_data' is not defined",
     "output_type": "error",
     "traceback": [
      "\u001b[0;31m---------------------------------------------------------------------------\u001b[0m",
      "\u001b[0;31mNameError\u001b[0m                                 Traceback (most recent call last)",
      "\u001b[0;32m<ipython-input-2-89a73f6b3951>\u001b[0m in \u001b[0;36m<module>\u001b[0;34m\u001b[0m\n\u001b[1;32m      8\u001b[0m \u001b[0;34m\u001b[0m\u001b[0m\n\u001b[1;32m      9\u001b[0m \u001b[0;34m\u001b[0m\u001b[0m\n\u001b[0;32m---> 10\u001b[0;31m \u001b[0mplot_data_button\u001b[0m \u001b[0;34m=\u001b[0m \u001b[0mtk\u001b[0m\u001b[0;34m.\u001b[0m\u001b[0mButton\u001b[0m\u001b[0;34m(\u001b[0m\u001b[0mframe\u001b[0m\u001b[0;34m,\u001b[0m \u001b[0mtext\u001b[0m\u001b[0;34m=\u001b[0m\u001b[0;34m\"Plot Data\"\u001b[0m\u001b[0;34m,\u001b[0m \u001b[0mcommand\u001b[0m \u001b[0;34m=\u001b[0m \u001b[0mplot_data\u001b[0m\u001b[0;34m)\u001b[0m\u001b[0;34m\u001b[0m\u001b[0;34m\u001b[0m\u001b[0m\n\u001b[0m\u001b[1;32m     11\u001b[0m \u001b[0mplot_data_button\u001b[0m\u001b[0;34m.\u001b[0m\u001b[0mplace\u001b[0m\u001b[0;34m(\u001b[0m\u001b[0mrelx\u001b[0m \u001b[0;34m=\u001b[0m \u001b[0;36m0.1\u001b[0m\u001b[0;34m,\u001b[0m \u001b[0mrelheight\u001b[0m\u001b[0;34m=\u001b[0m\u001b[0;36m0.3\u001b[0m\u001b[0;34m,\u001b[0m \u001b[0mrelwidth\u001b[0m\u001b[0;34m=\u001b[0m\u001b[0;36m0.3\u001b[0m\u001b[0;34m)\u001b[0m\u001b[0;34m\u001b[0m\u001b[0;34m\u001b[0m\u001b[0m\n\u001b[1;32m     12\u001b[0m \u001b[0;34m\u001b[0m\u001b[0m\n",
      "\u001b[0;31mNameError\u001b[0m: name 'plot_data' is not defined"
     ]
    }
   ],
   "source": [
    "root = tk.Tk()\n",
    "\n",
    "canvas = tk.Canvas(root, height = 400, width = 400)\n",
    "canvas.pack()\n",
    "\n",
    "frame = tk.Frame(root, bg=\"#80c1ff\")\n",
    "frame.place(relwidth=1, relheight=1)\n",
    "\n",
    "\n",
    "plot_data_button = tk.Button(frame, text=\"Plot Data\", command = plot_data)\n",
    "plot_data_button.place(relx = 0.1, relheight=0.3, relwidth=0.3)\n",
    "\n",
    "def plot_data():\n",
    "    pass\n",
    "\n",
    "load_data_button = tk.Button(frame, text = \"Load Data\", command = load_data)\n",
    "load_data_button.place(relx = 0.1, rely = 0.4, relheight = 0.3, relwidth = 0.3)\n",
    "\n",
    "def load_data():\n",
    "    pass\n",
    "\n",
    "\n",
    "OptionList = ['CRIM','ZN','AGE']\n",
    "variable = tk.StringVar(root)\n",
    "variable.set(OptionList[0])\n",
    "opt = tk.OptionMenu(root, variable, *OptionList)\n",
    "opt.config(width = 90, font = ('Helvetica',12))\n",
    "opt.place(relx = 0.5, relheight = 0.3, relwidth = 0.3)\n",
    "\n",
    "    \n",
    "def load_data():\n",
    "    from sklearn.datasets import load_boston\n",
    "    import pandas as pd\n",
    "    import numpy as np\n",
    "    data = load_boston()\n",
    "    df = pd.DataFrame(data = data.data, columns = data.feature_names)\n",
    "    df['target'] = data.target\n",
    "    return df\n",
    "\n",
    "df = load_data()\n",
    "str_check = variable.get()\n",
    "\n",
    "def plot_data(df, str_check):\n",
    "    import matplotlib.pyplot as plt\n",
    "    import pandas as pd\n",
    "    import numpy as np\n",
    "    \n",
    "    newX = df.filter(regex = str_check, axis=1)\n",
    "    newY = df['target']\n",
    "    \n",
    "    plt.plot(newX, newY, label = str_check)\n",
    "    \n",
    "    \n",
    "\n",
    "\n",
    "\n",
    "\n",
    "#label = tk.Label(frame, text = \"this is label\", bg=\"pink\")\n",
    "##label.grid(row=1, column=0)\n",
    "#label.pack(side=\"left\")\n",
    "\n",
    "#entry = tk.Entry(frame, bg=\"green\")\n",
    "##entry.grid(row=2, column=0)\n",
    "#entry.pack(side=\"left\")\n",
    "\n",
    "root.mainloop()"
   ]
  },
  {
   "cell_type": "markdown",
   "metadata": {},
   "source": [
    "tutorialspoint apparently good place for docs."
   ]
  }
 ],
 "metadata": {
  "kernelspec": {
   "display_name": "Python 3",
   "language": "python",
   "name": "python3"
  },
  "language_info": {
   "codemirror_mode": {
    "name": "ipython",
    "version": 3
   },
   "file_extension": ".py",
   "mimetype": "text/x-python",
   "name": "python",
   "nbconvert_exporter": "python",
   "pygments_lexer": "ipython3",
   "version": "3.8.2"
  }
 },
 "nbformat": 4,
 "nbformat_minor": 4
}

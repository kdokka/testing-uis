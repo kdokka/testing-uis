{
 "cells": [
  {
   "cell_type": "code",
   "execution_count": 1,
   "metadata": {},
   "outputs": [],
   "source": [
    "import pandas as pd\n",
    "import numpy as np\n",
    "import matplotlib.pyplot as plt\n",
    "import seaborn as sns"
   ]
  },
  {
   "cell_type": "code",
   "execution_count": 2,
   "metadata": {},
   "outputs": [],
   "source": [
    "filedata = pd.read_excel(io ='Aggregated Fermentation Test Data.xlsx', sheet_name = 'Aggregated Data')\n",
    "\n",
    "filedata.drop(columns='Unnamed: 0', axis=1, inplace=True)\n",
    "\n",
    "pd.set_option('display.max_columns', None)\n",
    "\n",
    "filedata.rename(columns = {'Dot Blot Protein (ug/ml) ':'dotprotein'}, inplace = True)\n",
    "filedata.rename(columns={'Experiment Format':'experiment'}, inplace = True)\n",
    "filedata.rename(columns={'Strain ID':'strain'},inplace=True)\n",
    "filedata.rename(columns={'Time point':'time'},inplace=True)\n",
    "filedata.rename(columns={'Glucose (mg/ml)':'glucose'},inplace=True)\n",
    "filedata.rename(columns={'SDS-PAGE No. Bands':'sds_bands'},inplace=True)\n",
    "filedata.rename(columns={'DCW (g/L)':'dcw', 'WCW (g/L)':'wcw'}, inplace=True)\n",
    "filedata.rename(columns={'Biomass/Glucose Consumed (g/g)':'gluc_consum'},inplace=True)\n",
    "filedata.drop(index=0, axis=0,inplace=True)"
   ]
  },
  {
   "cell_type": "code",
   "execution_count": 3,
   "metadata": {},
   "outputs": [
    {
     "data": {
      "text/plain": [
       "Index(['Experiment ID', 'Date', 'strain', 'experiment', 'time', 'OD600',\n",
       "       'glucose', 'dotprotein', 'PTS Tm', 'ELISA (ug/ml)', 'sds_bands',\n",
       "       'Glycosylation', 'ROS Eqs', 'HPLC total area', 'HPLC protein area',\n",
       "       'dcw', 'wcw', 'gluc_consum', 'Media', 'Additional media components',\n",
       "       'Vessel', 'Carbon Source', 'Carbon Source Concentration (%)',\n",
       "       'Feeding Profile ID', 'DO Profile ID', 'pH', 'Temperature',\n",
       "       'pH Profile ID', 'Temperature Profile ID'],\n",
       "      dtype='object')"
      ]
     },
     "execution_count": 3,
     "metadata": {},
     "output_type": "execute_result"
    }
   ],
   "source": [
    "filedata.columns"
   ]
  },
  {
   "cell_type": "code",
   "execution_count": null,
   "metadata": {},
   "outputs": [],
   "source": []
  },
  {
   "cell_type": "code",
   "execution_count": null,
   "metadata": {},
   "outputs": [],
   "source": []
  },
  {
   "cell_type": "code",
   "execution_count": 4,
   "metadata": {},
   "outputs": [],
   "source": [
    "# temp = filedata.loc[:,['ROS Eqs','sds_bands',HPLC protein area']]\n",
    "# temp.dropna(axis=0, inplace=True)\n",
    "\n",
    "\n",
    "# from sklearn.preprocessing import StandardScaler\n",
    "# scaler = StandardScaler()\n",
    "\n",
    "# temp_values = scaler.fit_transform(temp)\n",
    "\n",
    "# X = temp_values[:,0:1]\n",
    "\n",
    "# y = temp_values[:,1]\n",
    "\n",
    "# from sklearn.linear_model import LinearRegression\n",
    "\n",
    "# linmodel = LinearRegression()\n",
    "\n",
    "# linmodel.fit(X,y)\n",
    "\n",
    "# linmodel.score(X,y)"
   ]
  },
  {
   "cell_type": "code",
   "execution_count": null,
   "metadata": {},
   "outputs": [],
   "source": []
  },
  {
   "cell_type": "code",
   "execution_count": null,
   "metadata": {},
   "outputs": [],
   "source": []
  }
 ],
 "metadata": {
  "kernelspec": {
   "display_name": "Python 3",
   "language": "python",
   "name": "python3"
  },
  "language_info": {
   "codemirror_mode": {
    "name": "ipython",
    "version": 3
   },
   "file_extension": ".py",
   "mimetype": "text/x-python",
   "name": "python",
   "nbconvert_exporter": "python",
   "pygments_lexer": "ipython3",
   "version": "3.7.3"
  }
 },
 "nbformat": 4,
 "nbformat_minor": 2
}

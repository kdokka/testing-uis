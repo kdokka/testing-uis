{
 "cells": [
  {
   "cell_type": "code",
   "execution_count": 1,
   "metadata": {},
   "outputs": [],
   "source": [
    "import pandas as pd\n",
    "import numpy as np\n",
    "import matplotlib.pyplot as plt\n",
    "import seaborn as sns\n",
    "import os"
   ]
  },
  {
   "cell_type": "code",
   "execution_count": 2,
   "metadata": {},
   "outputs": [],
   "source": [
    "os.chdir('Real Data with CSVs')\n",
    "filedata = pd.read_excel(io ='Aggregated Fermentation Data.xlsx', sheet_name = 'Aggregated Data')"
   ]
  },
  {
   "cell_type": "code",
   "execution_count": 3,
   "metadata": {},
   "outputs": [],
   "source": [
    "filedata.drop(axis=0, index=0, inplace = True)\n",
    "\n",
    "filedata.drop(columns = 'Unnamed: 0', axis=1, inplace = True)"
   ]
  },
  {
   "cell_type": "code",
   "execution_count": 4,
   "metadata": {},
   "outputs": [
    {
     "name": "stderr",
     "output_type": "stream",
     "text": [
      "C:\\Users\\D\\Anaconda3\\lib\\site-packages\\pandas\\core\\indexing.py:1418: FutureWarning: \n",
      "Passing list-likes to .loc or [] with any missing label will raise\n",
      "KeyError in the future, you can use .reindex() as an alternative.\n",
      "\n",
      "See the documentation here:\n",
      "https://pandas.pydata.org/pandas-docs/stable/user_guide/indexing.html#deprecate-loc-reindex-listlike\n",
      "  return self._getitem_tuple(key)\n"
     ]
    }
   ],
   "source": [
    "cols = ['Experiment ID','Date','Strain ID','Experiment Format','Time point','OD600', \\\n",
    " 'Glucose Plate','Glucose (mg/ml)','Dot Blot Protein (ug/ml)','DCW (g/L)','Vessel', \\\n",
    " 'Carbon Source','Carbon Source Concentration (%)','Biomass/Glucose Consumed (g/g)', \\\n",
    " 'Feeding Profile ID','pH','Temperature']\n",
    " \n",
    " \n",
    "data = filedata.loc[:, cols]\n"
   ]
  },
  {
   "cell_type": "code",
   "execution_count": 26,
   "metadata": {},
   "outputs": [],
   "source": [
    "filt = (data['Strain ID'] == 'P-MIR-000') & (data['Experiment Format'] == 'F') & (data['Vessel']==1)\n",
    "\n",
    "X = data.loc[filt, 'Time point']\n",
    "\n",
    "y = data.loc[filt, 'OD600']\n",
    "\n",
    "# There are two traces or two time series. Need to figure out what that is. What is\n",
    "# different between these?s"
   ]
  },
  {
   "cell_type": "code",
   "execution_count": 30,
   "metadata": {},
   "outputs": [],
   "source": [
    "from sklearn.linear_model import LinearRegression\n",
    "linmodel = LinearRegression()\n",
    "\n",
    "X = np.array(X).reshape(-1,1)\n",
    "\n",
    "y = np.array(y).reshape(-1,1)\n",
    "\n",
    "\n",
    "linmodel.fit(X,y)\n",
    "# linear fit: R2 = 0.91;\n",
    "\n",
    "from sklearn.metrics import mean_squared_error\n",
    "\n",
    "lin_rmse = np.sqrt(mean_squared_error(y, linmodel.predict(X)))\n",
    "#lin_rmse = 30.312"
   ]
  },
  {
   "cell_type": "code",
   "execution_count": 52,
   "metadata": {},
   "outputs": [],
   "source": [
    "from sklearn.preprocessing import PolynomialFeatures\n",
    "\n",
    "\n",
    "\n",
    "poly = PolynomialFeatures(degree = 2)\n",
    "\n",
    "Xpoly = poly.fit_transform(X)\n",
    "\n",
    "lin_poly_model = LinearRegression()\n",
    "\n",
    "lin_poly_model.fit(Xpoly, y)\n",
    "\n",
    "lin_poly_model.score(Xpoly,y)\n",
    "\n",
    "pred = lin_poly_model.predict(Xpoly)\n",
    "\n",
    "\n",
    "np.sqrt(mean_squared_error(y, pred))\n",
    "\n"
   ]
  }
 ],
 "metadata": {
  "kernelspec": {
   "display_name": "Python 3",
   "language": "python",
   "name": "python3"
  },
  "language_info": {
   "codemirror_mode": {
    "name": "ipython",
    "version": 3
   },
   "file_extension": ".py",
   "mimetype": "text/x-python",
   "name": "python",
   "nbconvert_exporter": "python",
   "pygments_lexer": "ipython3",
   "version": "3.7.3"
  }
 },
 "nbformat": 4,
 "nbformat_minor": 2
}

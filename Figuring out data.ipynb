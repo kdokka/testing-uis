{
 "cells": [
  {
   "cell_type": "code",
   "execution_count": 1,
   "metadata": {},
   "outputs": [],
   "source": [
    "import pandas as pd\n",
    "import numpy as np\n",
    "import matplotlib.pyplot as plt\n",
    "import seaborn as sns\n",
    "import os"
   ]
  },
  {
   "cell_type": "code",
   "execution_count": 2,
   "metadata": {},
   "outputs": [],
   "source": [
    "os.chdir('Real Data with CSVs')\n",
    "filedata = pd.read_excel(io ='Aggregated Fermentation Data.xlsx', sheet_name = 'Aggregated Data')"
   ]
  },
  {
   "cell_type": "code",
   "execution_count": 3,
   "metadata": {},
   "outputs": [],
   "source": [
    "filedata.drop(axis=0, index=0, inplace = True)\n",
    "\n",
    "filedata.drop(columns = 'Unnamed: 0', axis=1, inplace = True)"
   ]
  },
  {
   "cell_type": "code",
   "execution_count": 4,
   "metadata": {},
   "outputs": [
    {
     "data": {
      "text/html": [
       "<div>\n",
       "<style scoped>\n",
       "    .dataframe tbody tr th:only-of-type {\n",
       "        vertical-align: middle;\n",
       "    }\n",
       "\n",
       "    .dataframe tbody tr th {\n",
       "        vertical-align: top;\n",
       "    }\n",
       "\n",
       "    .dataframe thead th {\n",
       "        text-align: right;\n",
       "    }\n",
       "</style>\n",
       "<table border=\"1\" class=\"dataframe\">\n",
       "  <thead>\n",
       "    <tr style=\"text-align: right;\">\n",
       "      <th></th>\n",
       "      <th>Experiment ID</th>\n",
       "      <th>Date</th>\n",
       "      <th>Strain ID</th>\n",
       "      <th>Experiment Format</th>\n",
       "      <th>Time point</th>\n",
       "      <th>OD600</th>\n",
       "      <th>Glucose Plate</th>\n",
       "      <th>Glucose (mg/ml)</th>\n",
       "      <th>Glucose S.E.</th>\n",
       "      <th>Dot Blot Number</th>\n",
       "      <th>...</th>\n",
       "      <th>Vessel</th>\n",
       "      <th>Carbon Source</th>\n",
       "      <th>Carbon Source Concentration (%)</th>\n",
       "      <th>Biomass/Glucose Consumed (g/g)</th>\n",
       "      <th>Feeding Profile ID</th>\n",
       "      <th>DO Profile ID</th>\n",
       "      <th>pH</th>\n",
       "      <th>Temperature</th>\n",
       "      <th>pH Profile ID</th>\n",
       "      <th>Temperature Profile ID</th>\n",
       "    </tr>\n",
       "  </thead>\n",
       "  <tbody>\n",
       "    <tr>\n",
       "      <td>1</td>\n",
       "      <td>2020-01-08-F</td>\n",
       "      <td>2020-01-08 00:00:00</td>\n",
       "      <td>P-MIR-000</td>\n",
       "      <td>F</td>\n",
       "      <td>0</td>\n",
       "      <td>1.06</td>\n",
       "      <td>1</td>\n",
       "      <td>21.2616</td>\n",
       "      <td>0.47</td>\n",
       "      <td>NaN</td>\n",
       "      <td>...</td>\n",
       "      <td>1</td>\n",
       "      <td>Glucose</td>\n",
       "      <td>60.0</td>\n",
       "      <td>0.26</td>\n",
       "      <td>FP-001</td>\n",
       "      <td>NaN</td>\n",
       "      <td>3.5</td>\n",
       "      <td>30</td>\n",
       "      <td>NaN</td>\n",
       "      <td>NaN</td>\n",
       "    </tr>\n",
       "    <tr>\n",
       "      <td>2</td>\n",
       "      <td>2020-01-08-F</td>\n",
       "      <td>2020-01-08 00:00:00</td>\n",
       "      <td>P-MIR-000</td>\n",
       "      <td>F</td>\n",
       "      <td>4</td>\n",
       "      <td>2.42</td>\n",
       "      <td>1</td>\n",
       "      <td>NaN</td>\n",
       "      <td>NaN</td>\n",
       "      <td>NaN</td>\n",
       "      <td>...</td>\n",
       "      <td>1</td>\n",
       "      <td>Glucose</td>\n",
       "      <td>60.0</td>\n",
       "      <td>0.26</td>\n",
       "      <td>FP-001</td>\n",
       "      <td>NaN</td>\n",
       "      <td>3.5</td>\n",
       "      <td>30</td>\n",
       "      <td>NaN</td>\n",
       "      <td>NaN</td>\n",
       "    </tr>\n",
       "    <tr>\n",
       "      <td>3</td>\n",
       "      <td>2020-01-08-F</td>\n",
       "      <td>2020-01-08 00:00:00</td>\n",
       "      <td>P-MIR-000</td>\n",
       "      <td>F</td>\n",
       "      <td>6</td>\n",
       "      <td>6.31</td>\n",
       "      <td>1</td>\n",
       "      <td>18.1914</td>\n",
       "      <td>0.16</td>\n",
       "      <td>NaN</td>\n",
       "      <td>...</td>\n",
       "      <td>1</td>\n",
       "      <td>Glucose</td>\n",
       "      <td>60.0</td>\n",
       "      <td>0.26</td>\n",
       "      <td>FP-001</td>\n",
       "      <td>NaN</td>\n",
       "      <td>3.5</td>\n",
       "      <td>30</td>\n",
       "      <td>NaN</td>\n",
       "      <td>NaN</td>\n",
       "    </tr>\n",
       "  </tbody>\n",
       "</table>\n",
       "<p>3 rows × 44 columns</p>\n",
       "</div>"
      ],
      "text/plain": [
       "  Experiment ID                 Date  Strain ID Experiment Format Time point  \\\n",
       "1  2020-01-08-F  2020-01-08 00:00:00  P-MIR-000                 F          0   \n",
       "2  2020-01-08-F  2020-01-08 00:00:00  P-MIR-000                 F          4   \n",
       "3  2020-01-08-F  2020-01-08 00:00:00  P-MIR-000                 F          6   \n",
       "\n",
       "  OD600 Glucose Plate Glucose (mg/ml) Glucose S.E. Dot Blot Number  ...  \\\n",
       "1  1.06             1         21.2616         0.47             NaN  ...   \n",
       "2  2.42             1             NaN          NaN             NaN  ...   \n",
       "3  6.31             1         18.1914         0.16             NaN  ...   \n",
       "\n",
       "  Vessel Carbon Source Carbon Source Concentration (%)  \\\n",
       "1      1       Glucose                            60.0   \n",
       "2      1       Glucose                            60.0   \n",
       "3      1       Glucose                            60.0   \n",
       "\n",
       "  Biomass/Glucose Consumed (g/g) Feeding Profile ID DO Profile ID   pH  \\\n",
       "1                           0.26             FP-001           NaN  3.5   \n",
       "2                           0.26             FP-001           NaN  3.5   \n",
       "3                           0.26             FP-001           NaN  3.5   \n",
       "\n",
       "  Temperature pH Profile ID Temperature Profile ID  \n",
       "1          30           NaN                    NaN  \n",
       "2          30           NaN                    NaN  \n",
       "3          30           NaN                    NaN  \n",
       "\n",
       "[3 rows x 44 columns]"
      ]
     },
     "execution_count": 4,
     "metadata": {},
     "output_type": "execute_result"
    }
   ],
   "source": [
    "filedata.head(3)"
   ]
  },
  {
   "cell_type": "code",
   "execution_count": null,
   "metadata": {},
   "outputs": [],
   "source": []
  },
  {
   "cell_type": "code",
   "execution_count": 20,
   "metadata": {},
   "outputs": [
    {
     "ename": "ImportError",
     "evalue": "cannot import name 'display_DCW' from 'ipynb.fs.full.Basic_functions' (unknown location)",
     "output_type": "error",
     "traceback": [
      "\u001b[1;31m---------------------------------------------------------------------------\u001b[0m",
      "\u001b[1;31mImportError\u001b[0m                               Traceback (most recent call last)",
      "\u001b[1;32m<ipython-input-20-401fc70ae6ed>\u001b[0m in \u001b[0;36m<module>\u001b[1;34m\u001b[0m\n\u001b[0;32m      1\u001b[0m \u001b[1;32mfrom\u001b[0m \u001b[0mipynb\u001b[0m\u001b[1;33m.\u001b[0m\u001b[0mfs\u001b[0m\u001b[1;33m.\u001b[0m\u001b[0mfull\u001b[0m\u001b[1;33m.\u001b[0m\u001b[0mBasic_functions\u001b[0m \u001b[1;32mimport\u001b[0m \u001b[0mdisplay_OD600\u001b[0m\u001b[1;33m\u001b[0m\u001b[1;33m\u001b[0m\u001b[0m\n\u001b[1;32m----> 2\u001b[1;33m \u001b[1;32mfrom\u001b[0m \u001b[0mipynb\u001b[0m\u001b[1;33m.\u001b[0m\u001b[0mfs\u001b[0m\u001b[1;33m.\u001b[0m\u001b[0mfull\u001b[0m\u001b[1;33m.\u001b[0m\u001b[0mBasic_functions\u001b[0m \u001b[1;32mimport\u001b[0m \u001b[0mdisplay_DCW\u001b[0m\u001b[1;33m\u001b[0m\u001b[1;33m\u001b[0m\u001b[0m\n\u001b[0m",
      "\u001b[1;31mImportError\u001b[0m: cannot import name 'display_DCW' from 'ipynb.fs.full.Basic_functions' (unknown location)"
     ]
    }
   ],
   "source": [
    "from ipynb.fs.full.Basic_functions import display_OD600\n",
    "from ipynb.fs.full.Basic_functions import display_DCW"
   ]
  },
  {
   "cell_type": "code",
   "execution_count": 13,
   "metadata": {},
   "outputs": [],
   "source": [
    "X1,y1 = display_OD600('2020-01-08-F','P-MIR-000','F',filedata, 1)\n",
    "X2,y2 = display_OD600('2020-01-08-F','P-MIR-000','F',filedata, 2)\n",
    "X3,y3 = display_OD600('2020-01-08-F','P-MIR-000','F',filedata, 3)\n",
    "X4,y4 = display_OD600('2020-01-08-F','P-MIR-000','F',filedata, 4)"
   ]
  },
  {
   "cell_type": "code",
   "execution_count": 15,
   "metadata": {},
   "outputs": [
    {
     "data": {
      "text/plain": [
       "<matplotlib.legend.Legend at 0x2323c92ef98>"
      ]
     },
     "execution_count": 15,
     "metadata": {},
     "output_type": "execute_result"
    },
    {
     "data": {
      "image/png": "[encoded data removed]",
      "text/plain": [
       "<Figure size 432x288 with 1 Axes>"
      ]
     },
     "metadata": {
      "needs_background": "light"
     },
     "output_type": "display_data"
    }
   ],
   "source": [
    "plt.plot(X1,y1,'b')\n",
    "plt.plot(X2,y2,'r')\n",
    "plt.plot(X3,y3,'g')\n",
    "plt.plot(X4,y4,'k')\n",
    "plt.legend([1,2,3,4])"
   ]
  },
  {
   "cell_type": "code",
   "execution_count": 21,
   "metadata": {},
   "outputs": [],
   "source": [
    "partial_data = filedata[(filedata['Experiment ID'] == '2020-01-08-F') & \\\n",
    "                   (filedata['Strain ID'] == 'P-MIR-000') & \\\n",
    "                   (filedata['Experiment Format'] == 'F') & \\\n",
    "                   (filedata['Vessel'] == 1)]"
   ]
  },
  {
   "cell_type": "code",
   "execution_count": 30,
   "metadata": {},
   "outputs": [
    {
     "data": {
      "text/plain": [
       "Index(['Experiment ID', 'Date', 'Strain ID', 'Experiment Format', 'Time point',\n",
       "       'OD600', 'Glucose Plate', 'Glucose (mg/ml)', 'Glucose S.E.',\n",
       "       'Dot Blot Number', 'Dot Blot Protein (ug/ml) ', 'Dot Blot Protein S.E.',\n",
       "       'Dot Blot Sample Size', 'Dot Blot Replicate Type', 'PTS Plate',\n",
       "       'PTS Tm', 'PTS Tm S.E.', 'PTS Sample Size', 'PTS Replicate Type',\n",
       "       'ELISA Plate', 'ELISA (ug/ml)', 'ELISA S.E.', 'ELISA Sample Size',\n",
       "       'ELISA Replicate Type', 'SDS-PAGE Gel Number', 'SDS-PAGE No. Bands',\n",
       "       'Glycosylation', 'ROS Eqs', 'HPLC total area', 'HPLC protein area',\n",
       "       'DCW (g/L)', 'DCW S.E.', 'WCW (g/L)', 'WCW S.E.', 'Vessel',\n",
       "       'Carbon Source', 'Carbon Source Concentration (%)',\n",
       "       'Biomass/Glucose Consumed (g/g)', 'Feeding Profile ID', 'DO Profile ID',\n",
       "       'pH', 'Temperature', 'pH Profile ID', 'Temperature Profile ID'],\n",
       "      dtype='object')"
      ]
     },
     "execution_count": 30,
     "metadata": {},
     "output_type": "execute_result"
    }
   ],
   "source": [
    "partial_data.columns"
   ]
  },
  {
   "cell_type": "code",
   "execution_count": null,
   "metadata": {},
   "outputs": [],
   "source": []
  }
 ],
 "metadata": {
  "kernelspec": {
   "display_name": "Python 3",
   "language": "python",
   "name": "python3"
  },
  "language_info": {
   "codemirror_mode": {
    "name": "ipython",
    "version": 3
   },
   "file_extension": ".py",
   "mimetype": "text/x-python",
   "name": "python",
   "nbconvert_exporter": "python",
   "pygments_lexer": "ipython3",
   "version": "3.7.3"
  }
 },
 "nbformat": 4,
 "nbformat_minor": 2
}

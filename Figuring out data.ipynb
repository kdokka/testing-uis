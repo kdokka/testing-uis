{
 "cells": [
  {
   "cell_type": "code",
   "execution_count": 1,
   "metadata": {},
   "outputs": [],
   "source": [
    "import pandas as pd\n",
    "import numpy as np\n",
    "import matplotlib.pyplot as plt\n",
    "import seaborn as sns"
   ]
  },
  {
   "cell_type": "code",
   "execution_count": 2,
   "metadata": {},
   "outputs": [],
   "source": [
    "filedata = pd.read_excel(io ='Aggregated Fermentation Test Data.xlsx', sheet_name = 'Aggregated Data')\n",
    "\n",
    "filedata.drop(columns='Unnamed: 0', axis=1, inplace=True)\n",
    "\n",
    "pd.set_option('display.max_columns', None)\n",
    "\n",
    "filedata.rename(columns = {'Dot Blot Protein (ug/ml) ':'dotprotein'}, inplace = True)\n",
    "filedata.rename(columns={'Experiment Format':'experiment'}, inplace = True)\n",
    "filedata.rename(columns={'Strain ID':'strain'},inplace=True)\n",
    "filedata.rename(columns={'Time point':'time'},inplace=True)\n",
    "filedata.rename(columns={'Glucose (mg/ml)':'glucose'},inplace=True)\n",
    "filedata.rename(columns={'SDS-PAGE No. Bands':'sds_bands'},inplace=True)\n",
    "filedata.rename(columns={'DCW (g/L)':'dcw', 'WCW (g/L)':'wcw'}, inplace=True)\n",
    "filedata.rename(columns={'Biomass/Glucose Consumed (g/g)':'gluc_consum'},inplace=True)\n",
    "filedata.drop(index=0, axis=0,inplace=True)"
   ]
  },
  {
   "cell_type": "code",
   "execution_count": null,
   "metadata": {},
   "outputs": [],
   "source": []
  }
 ],
 "metadata": {
  "kernelspec": {
   "display_name": "Python 3",
   "language": "python",
   "name": "python3"
  },
  "language_info": {
   "codemirror_mode": {
    "name": "ipython",
    "version": 3
   },
   "file_extension": ".py",
   "mimetype": "text/x-python",
   "name": "python",
   "nbconvert_exporter": "python",
   "pygments_lexer": "ipython3",
   "version": "3.7.3"
  }
 },
 "nbformat": 4,
 "nbformat_minor": 2
}

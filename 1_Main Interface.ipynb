{
 "cells": [
  {
   "cell_type": "code",
   "execution_count": 1,
   "metadata": {},
   "outputs": [],
   "source": [
    "import tkinter as tk"
   ]
  },
  {
   "cell_type": "code",
   "execution_count": 3,
   "metadata": {},
   "outputs": [],
   "source": [
    "# CReating the main UI.\n",
    "main_root = tk.Tk()\n",
    "\n",
    "main_root.title('Fermentation and Strain Interface')\n",
    "main_root.geometry(\"500x500+100+100\")\n",
    "\n",
    "main_frame = tk.Frame(main_root)\n",
    "main_frame.pack()\n",
    "\n",
    "# Callback function for the 1st button.\n",
    "def tvDp():\n",
    "    from ipynb.fs.full.Data_preselection import select_data_tvDp\n",
    "    dict_tvDp = select_data_tvDp(strain = \"K-KOP-002\", experiment = \"F\")\n",
    "    import matplotlib.pyplot as plt\n",
    "    %matplotlib tk\n",
    "    plt.plot(dict_tvDp[1][:,0], dict_tvDp[1][:,2],'bo',markersize=9)\n",
    "    plt.plot(dict_tvDp[2][:,0], dict_tvDp[2][:,2],'r*', markersize=15)\n",
    "    plt.plot(dict_tvDp[3][:,0], dict_tvDp[3][:,2],'ks', markersize=5)\n",
    "    plt.plot(dict_tvDp[4][:,0], dict_tvDp[4][:,2],'yd', markersize=5)\n",
    "    plt.xlabel('Incubation hour')\n",
    "    plt.ylabel('Dot protein (microg/ml)')\n",
    "    plt.legend(['Vessel 1','Vessel 2','Vessel 3','Vessel 4'])\n",
    "    plt.show()\n",
    "\n",
    "# Callback for the 2nd button.\n",
    "def bandROSHplc():\n",
    "    from ipynb.fs.full.Data_preselection import select_data_bandROSHplc\n",
    "    import matplotlib.pyplot as plt\n",
    "    %matplotlib tk\n",
    "    \n",
    "    bRH_data = select_data_bandROSHplc()\n",
    "    X = bRH_data.loc[:,['ROS Eqs','sds_bands']].values\n",
    "    y = bRH_data['HPLC protein area'].values.reshape(-1,1)\n",
    "\n",
    "    from sklearn.linear_model import LinearRegression\n",
    "    linmodel = LinearRegression()\n",
    "    linmodel.fit(X,y)\n",
    "    plt.plot(X[:,0],y,'bo')\n",
    "    plt.xlabel('ROS Eqs')\n",
    "    plt.ylabel('HPLC protein area')\n",
    "    str_title = 'Multiple Linear regression: ' + str(linmodel.score(X,y))\n",
    "    plt.title(str_title)\n",
    "    \n",
    "\n",
    "main_tvDp_button = tk.Button(main_frame, text=\"Dot Protein v/s Time point\", command = tvDp)\n",
    "main_tvDp_button.place(relx=1, rely=1)\n",
    "main_tvDp_button.pack()\n",
    "\n",
    "\n",
    "main_bandROSHplc_button = tk.Button(main_frame, text = \"HPLC v/s (ROS & SDS-Bands)\", command = bandROSHplc)\n",
    "main_bandROSHplc_button.place(relx=0.8, rely = 0.8)\n",
    "main_bandROSHplc_button.pack()\n",
    "\n",
    "\n",
    "main_root.mainloop()"
   ]
  },
  {
   "cell_type": "code",
   "execution_count": null,
   "metadata": {},
   "outputs": [],
   "source": []
  },
  {
   "cell_type": "code",
   "execution_count": null,
   "metadata": {},
   "outputs": [],
   "source": []
  },
  {
   "cell_type": "code",
   "execution_count": null,
   "metadata": {},
   "outputs": [],
   "source": []
  },
  {
   "cell_type": "code",
   "execution_count": 4,
   "metadata": {},
   "outputs": [],
   "source": [
    "#from ipynb.fs.full.<notebook_name> import <function_name>"
   ]
  }
 ],
 "metadata": {
  "kernelspec": {
   "display_name": "Python 3",
   "language": "python",
   "name": "python3"
  },
  "language_info": {
   "codemirror_mode": {
    "name": "ipython",
    "version": 3
   },
   "file_extension": ".py",
   "mimetype": "text/x-python",
   "name": "python",
   "nbconvert_exporter": "python",
   "pygments_lexer": "ipython3",
   "version": "3.7.3"
  }
 },
 "nbformat": 4,
 "nbformat_minor": 2
}

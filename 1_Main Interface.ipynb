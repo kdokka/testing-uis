{
 "cells": [
  {
   "cell_type": "code",
   "execution_count": 1,
   "metadata": {},
   "outputs": [],
   "source": [
    "import tkinter as tk"
   ]
  },
  {
   "cell_type": "code",
   "execution_count": 2,
   "metadata": {},
   "outputs": [],
   "source": [
    "# strain = \n",
    "# experiment = \"F\"\n",
    "\n"
   ]
  },
  {
   "cell_type": "code",
   "execution_count": 3,
   "metadata": {},
   "outputs": [],
   "source": [
    "main_root = tk.Tk()\n",
    "\n",
    "main_root.title('Fermentation and Strain Interface')\n",
    "main_root.geometry(\"500x500+100+100\")\n",
    "\n",
    "main_frame = tk.Frame(main_root)\n",
    "main_frame.pack()\n",
    "\n",
    "def tvDp():\n",
    "    from ipynb.fs.full.Data_preselection import select_data\n",
    "    dict_tvDp = select_data_tvDp(strain = \"K-KOP-002\", experiment = \"F\")\n",
    "    import matplotlib.pyplot as plt\n",
    "    %matplotlib tk\n",
    "    plt.plot(dict_tvDp[1][:,0], dict_tvDp[1][:,2],'bo',markersize=9)\n",
    "    plt.plot(dict_tvDp[2][:,0], dict_tvDp[2][:,2],'r*', markersize=15)\n",
    "    plt.plot(dict_tvDp[3][:,0], dict_tvDp[3][:,2],'ks', markersize=5)\n",
    "    plt.plot(dict_tvDp[4][:,0], dict_tvDp[4][:,2],'yd', markersize=5)\n",
    "    plt.xlabel('Incubation hour')\n",
    "    plt.ylabel('Dot protein (microg/ml)')\n",
    "    plt.legend(['Vessel 1','Vessel 2','Vessel 3','Vessel 4'])\n",
    "    plt.show()\n",
    "\n",
    "\n",
    "\n",
    "main_ferm_button = tk.Button(main_frame, text=\"Dot Protein v/s Time point\", command = tvDp)\n",
    "main_ferm_button.place(relx=1, rely=1)\n",
    "main_ferm_button.pack()\n",
    "\n",
    "\n",
    "\n",
    "main_root.mainloop()"
   ]
  },
  {
   "cell_type": "code",
   "execution_count": null,
   "metadata": {},
   "outputs": [],
   "source": []
  },
  {
   "cell_type": "code",
   "execution_count": null,
   "metadata": {},
   "outputs": [],
   "source": []
  },
  {
   "cell_type": "code",
   "execution_count": null,
   "metadata": {},
   "outputs": [],
   "source": []
  },
  {
   "cell_type": "code",
   "execution_count": 4,
   "metadata": {},
   "outputs": [],
   "source": [
    "#from ipynb.fs.full.<notebook_name> import <function_name>"
   ]
  }
 ],
 "metadata": {
  "kernelspec": {
   "display_name": "Python 3",
   "language": "python",
   "name": "python3"
  },
  "language_info": {
   "codemirror_mode": {
    "name": "ipython",
    "version": 3
   },
   "file_extension": ".py",
   "mimetype": "text/x-python",
   "name": "python",
   "nbconvert_exporter": "python",
   "pygments_lexer": "ipython3",
   "version": "3.7.3"
  }
 },
 "nbformat": 4,
 "nbformat_minor": 2
}

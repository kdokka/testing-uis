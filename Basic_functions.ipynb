{
 "cells": [
  {
   "cell_type": "code",
   "execution_count": 2,
   "metadata": {},
   "outputs": [],
   "source": [
    "def display_OD600(expt_ID, strain_ID, expt_format, filedata, vessel):\n",
    "    # Bullshit of course\n",
    "    import pandas as pd\n",
    "    import matplotlib.pyplot as plt\n",
    "    import numpy as np\n",
    "    \n",
    "    partial_data = filedata[(filedata['Experiment ID'] == expt_ID) & \\\n",
    "                   (filedata['Strain ID'] == strain_ID) & \\\n",
    "                   (filedata['Experiment Format'] == expt_format) & \\\n",
    "                   (filedata['Vessel'] == vessel)]\n",
    "    \n",
    "    X = np.array(partial_data['Time point'])\n",
    "    y = np.array(partial_data['OD600'])\n",
    "    \n",
    "    return X, y"
   ]
  },
  {
   "cell_type": "code",
   "execution_count": 4,
   "metadata": {},
   "outputs": [],
   "source": [
    "def display_glucose(expt_ID, strain_ID, expt_format, filedata, vessel):\n",
    "    import pandas as pd\n",
    "    import matplotlib.pyplot as plt\n",
    "    import numpy as np\n",
    "    \n",
    "    partial_data = filedata[(filedata['Experiment ID'] == expt_ID) & \\\n",
    "                   (filedata['Strain ID'] == strain_ID) & \\\n",
    "                   (filedata['Experiment Format'] == expt_format) & \\\n",
    "                   (filedata['Vessel'] == vessel)]\n",
    "    \n",
    "    X = np.array(partial_data['Time point'])\n",
    "    y = np.array(partial_data['Glucose (mg/ml)'])\n",
    "    \n",
    "    return X, y\n",
    "    "
   ]
  },
  {
   "cell_type": "code",
   "execution_count": 5,
   "metadata": {},
   "outputs": [],
   "source": [
    "def display_DCW(expt_ID, strain_ID, expt_format, filedata, vessel):\n",
    "    import pandas as pd\n",
    "    import matplotlib.pyplot as plt\n",
    "    import numpy as np\n",
    "    \n",
    "    partial_data = filedata[(filedata['Experiment ID'] == expt_ID) & \\\n",
    "                   (filedata['Strain ID'] == strain_ID) & \\\n",
    "                   (filedata['Experiment Format'] == expt_format) & \\\n",
    "                   (filedata['Vessel'] == vessel)]\n",
    "    \n",
    "    X = np.array(partial_data['Time point'])\n",
    "    y = np.array(partial_data['DCW (g/L)'])\n",
    "    \n",
    "    return X, y"
   ]
  },
  {
   "cell_type": "code",
   "execution_count": 6,
   "metadata": {},
   "outputs": [],
   "source": [
    "def display_DotBlotProtein(expt_ID, strain_ID, expt_format, filedata, vessel):\n",
    "    import pandas as pd\n",
    "    import matplotlib.pyplot as plt\n",
    "    import numpy as np\n",
    "    \n",
    "    partial_data = filedata[(filedata['Experiment ID'] == expt_ID) & \\\n",
    "                   (filedata['Strain ID'] == strain_ID) & \\\n",
    "                   (filedata['Experiment Format'] == expt_format) & \\\n",
    "                   (filedata['Vessel'] == vessel)]\n",
    "    \n",
    "    X = np.array(partial_data['Time point'])\n",
    "    y = np.array(partial_data['Dot Blot Protein (ug/ml)'])\n",
    "    \n",
    "    return X, y\n",
    "    \n"
   ]
  },
  {
   "cell_type": "code",
   "execution_count": null,
   "metadata": {},
   "outputs": [],
   "source": []
  }
 ],
 "metadata": {
  "kernelspec": {
   "display_name": "Python 3",
   "language": "python",
   "name": "python3"
  },
  "language_info": {
   "codemirror_mode": {
    "name": "ipython",
    "version": 3
   },
   "file_extension": ".py",
   "mimetype": "text/x-python",
   "name": "python",
   "nbconvert_exporter": "python",
   "pygments_lexer": "ipython3",
   "version": "3.7.3"
  }
 },
 "nbformat": 4,
 "nbformat_minor": 2
}

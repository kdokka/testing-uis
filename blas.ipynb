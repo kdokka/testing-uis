{
 "cells": [
  {
   "cell_type": "code",
   "execution_count": 1,
   "metadata": {},
   "outputs": [],
   "source": [
    "import pandas as pd\n",
    "import numpy as np\n",
    "import matplotlib.pyplot as plt\n",
    "import seaborn as sns\n",
    "import tkinter as tk\n",
    "%matplotlib tk"
   ]
  },
  {
   "cell_type": "code",
   "execution_count": 2,
   "metadata": {},
   "outputs": [
    {
     "name": "stdout",
     "output_type": "stream",
     "text": [
      "0\n",
      "1\n"
     ]
    }
   ],
   "source": [
    "root = tk.Tk()\n",
    "root.title('User Interface')\n",
    "\n",
    "canvas = tk.Canvas(root, height = 400, width = 400)\n",
    "canvas.pack()\n",
    "\n",
    "frame = tk.Frame(root, bg=\"#80c1ff\")\n",
    "frame.place(relwidth=1, relheight=1)\n",
    "\n",
    "def display_me():\n",
    "    print(exptID_var.get())\n",
    "\n",
    "    \n",
    "display_button = tk.Button(frame, text = \"Display\", command = display_me)\n",
    "display_button.pack(ipady = 0.5)\n",
    "\n",
    "exptID_var = tk.IntVar()\n",
    "exptID_checkbox = tk.Checkbutton(frame, text = \"Experiment ID\", variable = exptID_var)\n",
    "exptID_checkbox.pack()\n",
    "\n",
    "#exptID_label = tk.Label(root, text = \"Experiment ID\")\n",
    "#exptID_label.place(relx = 0.05, rely = 0.05)\n",
    "\n",
    "\n",
    "\n",
    "\n",
    "root.mainloop()"
   ]
  },
  {
   "cell_type": "code",
   "execution_count": null,
   "metadata": {},
   "outputs": [],
   "source": []
  }
 ],
 "metadata": {
  "kernelspec": {
   "display_name": "Python 3",
   "language": "python",
   "name": "python3"
  },
  "language_info": {
   "codemirror_mode": {
    "name": "ipython",
    "version": 3
   },
   "file_extension": ".py",
   "mimetype": "text/x-python",
   "name": "python",
   "nbconvert_exporter": "python",
   "pygments_lexer": "ipython3",
   "version": "3.7.3"
  }
 },
 "nbformat": 4,
 "nbformat_minor": 2
}
